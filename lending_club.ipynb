{
 "cells": [
  {
   "cell_type": "code",
   "execution_count": 132,
   "metadata": {},
   "outputs": [],
   "source": [
    "# Install panda numpy matblotlib and seaborn\n",
    "# !pip install pandas numpy matplotlib seaborn\n",
    "\n",
    "# install openpyxl to  read excel files (.xlsx)\n",
    "# !pip install openpyxl"
   ]
  },
  {
   "cell_type": "code",
   "execution_count": 133,
   "metadata": {},
   "outputs": [],
   "source": [
    "# import Pandas as pd and Numpy as np for numerical and data analysis\n",
    "import numpy as np\n",
    "import pandas as pd\n",
    "\n",
    "# import seaborn and matplotlib as plt for data visualization\n",
    "import matplotlib.pyplot as plt\n",
    "%matplotlib inline\n",
    "import seaborn as sns\n",
    "\n",
    "# additional setting to supress warings\n",
    "import warnings\n",
    "warnings.filterwarnings('ignore')"
   ]
  },
  {
   "cell_type": "markdown",
   "metadata": {},
   "source": [
    "### Load the data file source"
   ]
  },
  {
   "cell_type": "code",
   "execution_count": 134,
   "metadata": {},
   "outputs": [],
   "source": [
    "# load and read dataset file\n",
    "loan_data = pd.read_csv(\"loan.csv\")"
   ]
  },
  {
   "cell_type": "code",
   "execution_count": 135,
   "metadata": {},
   "outputs": [
    {
     "data": {
      "text/html": [
       "<div>\n",
       "<style scoped>\n",
       "    .dataframe tbody tr th:only-of-type {\n",
       "        vertical-align: middle;\n",
       "    }\n",
       "\n",
       "    .dataframe tbody tr th {\n",
       "        vertical-align: top;\n",
       "    }\n",
       "\n",
       "    .dataframe thead th {\n",
       "        text-align: right;\n",
       "    }\n",
       "</style>\n",
       "<table border=\"1\" class=\"dataframe\">\n",
       "  <thead>\n",
       "    <tr style=\"text-align: right;\">\n",
       "      <th></th>\n",
       "      <th>LoanStatNew</th>\n",
       "      <th>Description</th>\n",
       "    </tr>\n",
       "  </thead>\n",
       "  <tbody>\n",
       "    <tr>\n",
       "      <th>0</th>\n",
       "      <td>acc_now_delinq</td>\n",
       "      <td>The number of accounts on which the borrower i...</td>\n",
       "    </tr>\n",
       "    <tr>\n",
       "      <th>1</th>\n",
       "      <td>acc_open_past_24mths</td>\n",
       "      <td>Number of trades opened in past 24 months.</td>\n",
       "    </tr>\n",
       "    <tr>\n",
       "      <th>2</th>\n",
       "      <td>addr_state</td>\n",
       "      <td>The state provided by the borrower in the loan...</td>\n",
       "    </tr>\n",
       "    <tr>\n",
       "      <th>3</th>\n",
       "      <td>all_util</td>\n",
       "      <td>Balance to credit limit on all trades</td>\n",
       "    </tr>\n",
       "    <tr>\n",
       "      <th>4</th>\n",
       "      <td>annual_inc</td>\n",
       "      <td>The self-reported annual income provided by th...</td>\n",
       "    </tr>\n",
       "    <tr>\n",
       "      <th>...</th>\n",
       "      <td>...</td>\n",
       "      <td>...</td>\n",
       "    </tr>\n",
       "    <tr>\n",
       "      <th>112</th>\n",
       "      <td>verification_status</td>\n",
       "      <td>Indicates if income was verified by LC, not ve...</td>\n",
       "    </tr>\n",
       "    <tr>\n",
       "      <th>113</th>\n",
       "      <td>verified_status_joint</td>\n",
       "      <td>Indicates if the co-borrowers' joint income wa...</td>\n",
       "    </tr>\n",
       "    <tr>\n",
       "      <th>114</th>\n",
       "      <td>zip_code</td>\n",
       "      <td>The first 3 numbers of the zip code provided b...</td>\n",
       "    </tr>\n",
       "    <tr>\n",
       "      <th>115</th>\n",
       "      <td>NaN</td>\n",
       "      <td>NaN</td>\n",
       "    </tr>\n",
       "    <tr>\n",
       "      <th>116</th>\n",
       "      <td>NaN</td>\n",
       "      <td>* Employer Title replaces Employer Name for al...</td>\n",
       "    </tr>\n",
       "  </tbody>\n",
       "</table>\n",
       "<p>117 rows × 2 columns</p>\n",
       "</div>"
      ],
      "text/plain": [
       "               LoanStatNew                                        Description\n",
       "0           acc_now_delinq  The number of accounts on which the borrower i...\n",
       "1     acc_open_past_24mths         Number of trades opened in past 24 months.\n",
       "2               addr_state  The state provided by the borrower in the loan...\n",
       "3                 all_util              Balance to credit limit on all trades\n",
       "4               annual_inc  The self-reported annual income provided by th...\n",
       "..                     ...                                                ...\n",
       "112    verification_status  Indicates if income was verified by LC, not ve...\n",
       "113  verified_status_joint  Indicates if the co-borrowers' joint income wa...\n",
       "114               zip_code  The first 3 numbers of the zip code provided b...\n",
       "115                    NaN                                                NaN\n",
       "116                    NaN  * Employer Title replaces Employer Name for al...\n",
       "\n",
       "[117 rows x 2 columns]"
      ]
     },
     "execution_count": 135,
     "metadata": {},
     "output_type": "execute_result"
    }
   ],
   "source": [
    "# load dictinary data set\n",
    "data_dict = pd.read_excel(\"Data_Dictionary.xlsx\")\n",
    "data_dict"
   ]
  },
  {
   "cell_type": "markdown",
   "metadata": {},
   "source": [
    "### Exploring the data"
   ]
  },
  {
   "cell_type": "code",
   "execution_count": 136,
   "metadata": {},
   "outputs": [
    {
     "data": {
      "text/plain": [
       "(39717, 111)"
      ]
     },
     "execution_count": 136,
     "metadata": {},
     "output_type": "execute_result"
    }
   ],
   "source": [
    "# check dimension of dataframe\n",
    "loan_data.shape"
   ]
  },
  {
   "cell_type": "code",
   "execution_count": 137,
   "metadata": {},
   "outputs": [
    {
     "data": {
      "text/html": [
       "<div>\n",
       "<style scoped>\n",
       "    .dataframe tbody tr th:only-of-type {\n",
       "        vertical-align: middle;\n",
       "    }\n",
       "\n",
       "    .dataframe tbody tr th {\n",
       "        vertical-align: top;\n",
       "    }\n",
       "\n",
       "    .dataframe thead th {\n",
       "        text-align: right;\n",
       "    }\n",
       "</style>\n",
       "<table border=\"1\" class=\"dataframe\">\n",
       "  <thead>\n",
       "    <tr style=\"text-align: right;\">\n",
       "      <th></th>\n",
       "      <th>id</th>\n",
       "      <th>member_id</th>\n",
       "      <th>loan_amnt</th>\n",
       "      <th>funded_amnt</th>\n",
       "      <th>funded_amnt_inv</th>\n",
       "      <th>term</th>\n",
       "      <th>int_rate</th>\n",
       "      <th>installment</th>\n",
       "      <th>grade</th>\n",
       "      <th>sub_grade</th>\n",
       "      <th>...</th>\n",
       "      <th>num_tl_90g_dpd_24m</th>\n",
       "      <th>num_tl_op_past_12m</th>\n",
       "      <th>pct_tl_nvr_dlq</th>\n",
       "      <th>percent_bc_gt_75</th>\n",
       "      <th>pub_rec_bankruptcies</th>\n",
       "      <th>tax_liens</th>\n",
       "      <th>tot_hi_cred_lim</th>\n",
       "      <th>total_bal_ex_mort</th>\n",
       "      <th>total_bc_limit</th>\n",
       "      <th>total_il_high_credit_limit</th>\n",
       "    </tr>\n",
       "  </thead>\n",
       "  <tbody>\n",
       "    <tr>\n",
       "      <th>0</th>\n",
       "      <td>1077501</td>\n",
       "      <td>1296599</td>\n",
       "      <td>5000</td>\n",
       "      <td>5000</td>\n",
       "      <td>4975.0</td>\n",
       "      <td>36 months</td>\n",
       "      <td>10.65%</td>\n",
       "      <td>162.87</td>\n",
       "      <td>B</td>\n",
       "      <td>B2</td>\n",
       "      <td>...</td>\n",
       "      <td>NaN</td>\n",
       "      <td>NaN</td>\n",
       "      <td>NaN</td>\n",
       "      <td>NaN</td>\n",
       "      <td>0.0</td>\n",
       "      <td>0.0</td>\n",
       "      <td>NaN</td>\n",
       "      <td>NaN</td>\n",
       "      <td>NaN</td>\n",
       "      <td>NaN</td>\n",
       "    </tr>\n",
       "    <tr>\n",
       "      <th>1</th>\n",
       "      <td>1077430</td>\n",
       "      <td>1314167</td>\n",
       "      <td>2500</td>\n",
       "      <td>2500</td>\n",
       "      <td>2500.0</td>\n",
       "      <td>60 months</td>\n",
       "      <td>15.27%</td>\n",
       "      <td>59.83</td>\n",
       "      <td>C</td>\n",
       "      <td>C4</td>\n",
       "      <td>...</td>\n",
       "      <td>NaN</td>\n",
       "      <td>NaN</td>\n",
       "      <td>NaN</td>\n",
       "      <td>NaN</td>\n",
       "      <td>0.0</td>\n",
       "      <td>0.0</td>\n",
       "      <td>NaN</td>\n",
       "      <td>NaN</td>\n",
       "      <td>NaN</td>\n",
       "      <td>NaN</td>\n",
       "    </tr>\n",
       "    <tr>\n",
       "      <th>2</th>\n",
       "      <td>1077175</td>\n",
       "      <td>1313524</td>\n",
       "      <td>2400</td>\n",
       "      <td>2400</td>\n",
       "      <td>2400.0</td>\n",
       "      <td>36 months</td>\n",
       "      <td>15.96%</td>\n",
       "      <td>84.33</td>\n",
       "      <td>C</td>\n",
       "      <td>C5</td>\n",
       "      <td>...</td>\n",
       "      <td>NaN</td>\n",
       "      <td>NaN</td>\n",
       "      <td>NaN</td>\n",
       "      <td>NaN</td>\n",
       "      <td>0.0</td>\n",
       "      <td>0.0</td>\n",
       "      <td>NaN</td>\n",
       "      <td>NaN</td>\n",
       "      <td>NaN</td>\n",
       "      <td>NaN</td>\n",
       "    </tr>\n",
       "    <tr>\n",
       "      <th>3</th>\n",
       "      <td>1076863</td>\n",
       "      <td>1277178</td>\n",
       "      <td>10000</td>\n",
       "      <td>10000</td>\n",
       "      <td>10000.0</td>\n",
       "      <td>36 months</td>\n",
       "      <td>13.49%</td>\n",
       "      <td>339.31</td>\n",
       "      <td>C</td>\n",
       "      <td>C1</td>\n",
       "      <td>...</td>\n",
       "      <td>NaN</td>\n",
       "      <td>NaN</td>\n",
       "      <td>NaN</td>\n",
       "      <td>NaN</td>\n",
       "      <td>0.0</td>\n",
       "      <td>0.0</td>\n",
       "      <td>NaN</td>\n",
       "      <td>NaN</td>\n",
       "      <td>NaN</td>\n",
       "      <td>NaN</td>\n",
       "    </tr>\n",
       "    <tr>\n",
       "      <th>4</th>\n",
       "      <td>1075358</td>\n",
       "      <td>1311748</td>\n",
       "      <td>3000</td>\n",
       "      <td>3000</td>\n",
       "      <td>3000.0</td>\n",
       "      <td>60 months</td>\n",
       "      <td>12.69%</td>\n",
       "      <td>67.79</td>\n",
       "      <td>B</td>\n",
       "      <td>B5</td>\n",
       "      <td>...</td>\n",
       "      <td>NaN</td>\n",
       "      <td>NaN</td>\n",
       "      <td>NaN</td>\n",
       "      <td>NaN</td>\n",
       "      <td>0.0</td>\n",
       "      <td>0.0</td>\n",
       "      <td>NaN</td>\n",
       "      <td>NaN</td>\n",
       "      <td>NaN</td>\n",
       "      <td>NaN</td>\n",
       "    </tr>\n",
       "  </tbody>\n",
       "</table>\n",
       "<p>5 rows × 111 columns</p>\n",
       "</div>"
      ],
      "text/plain": [
       "        id  member_id  loan_amnt  funded_amnt  funded_amnt_inv        term  \\\n",
       "0  1077501    1296599       5000         5000           4975.0   36 months   \n",
       "1  1077430    1314167       2500         2500           2500.0   60 months   \n",
       "2  1077175    1313524       2400         2400           2400.0   36 months   \n",
       "3  1076863    1277178      10000        10000          10000.0   36 months   \n",
       "4  1075358    1311748       3000         3000           3000.0   60 months   \n",
       "\n",
       "  int_rate  installment grade sub_grade  ... num_tl_90g_dpd_24m  \\\n",
       "0   10.65%       162.87     B        B2  ...                NaN   \n",
       "1   15.27%        59.83     C        C4  ...                NaN   \n",
       "2   15.96%        84.33     C        C5  ...                NaN   \n",
       "3   13.49%       339.31     C        C1  ...                NaN   \n",
       "4   12.69%        67.79     B        B5  ...                NaN   \n",
       "\n",
       "  num_tl_op_past_12m pct_tl_nvr_dlq  percent_bc_gt_75 pub_rec_bankruptcies  \\\n",
       "0                NaN            NaN               NaN                  0.0   \n",
       "1                NaN            NaN               NaN                  0.0   \n",
       "2                NaN            NaN               NaN                  0.0   \n",
       "3                NaN            NaN               NaN                  0.0   \n",
       "4                NaN            NaN               NaN                  0.0   \n",
       "\n",
       "  tax_liens tot_hi_cred_lim total_bal_ex_mort total_bc_limit  \\\n",
       "0       0.0             NaN               NaN            NaN   \n",
       "1       0.0             NaN               NaN            NaN   \n",
       "2       0.0             NaN               NaN            NaN   \n",
       "3       0.0             NaN               NaN            NaN   \n",
       "4       0.0             NaN               NaN            NaN   \n",
       "\n",
       "  total_il_high_credit_limit  \n",
       "0                        NaN  \n",
       "1                        NaN  \n",
       "2                        NaN  \n",
       "3                        NaN  \n",
       "4                        NaN  \n",
       "\n",
       "[5 rows x 111 columns]"
      ]
     },
     "execution_count": 137,
     "metadata": {},
     "output_type": "execute_result"
    }
   ],
   "source": [
    "# view first 5 rows of loan data frame\n",
    "loan_data.head()"
   ]
  },
  {
   "cell_type": "code",
   "execution_count": 138,
   "metadata": {},
   "outputs": [
    {
     "name": "stdout",
     "output_type": "stream",
     "text": [
      "<class 'pandas.core.frame.DataFrame'>\n",
      "RangeIndex: 39717 entries, 0 to 39716\n",
      "Data columns (total 111 columns):\n",
      " #    Column                          Non-Null Count  Dtype  \n",
      "---   ------                          --------------  -----  \n",
      " 0    id                              39717 non-null  int64  \n",
      " 1    member_id                       39717 non-null  int64  \n",
      " 2    loan_amnt                       39717 non-null  int64  \n",
      " 3    funded_amnt                     39717 non-null  int64  \n",
      " 4    funded_amnt_inv                 39717 non-null  float64\n",
      " 5    term                            39717 non-null  object \n",
      " 6    int_rate                        39717 non-null  object \n",
      " 7    installment                     39717 non-null  float64\n",
      " 8    grade                           39717 non-null  object \n",
      " 9    sub_grade                       39717 non-null  object \n",
      " 10   emp_title                       37258 non-null  object \n",
      " 11   emp_length                      38642 non-null  object \n",
      " 12   home_ownership                  39717 non-null  object \n",
      " 13   annual_inc                      39717 non-null  float64\n",
      " 14   verification_status             39717 non-null  object \n",
      " 15   issue_d                         39717 non-null  object \n",
      " 16   loan_status                     39717 non-null  object \n",
      " 17   pymnt_plan                      39717 non-null  object \n",
      " 18   url                             39717 non-null  object \n",
      " 19   desc                            26775 non-null  object \n",
      " 20   purpose                         39717 non-null  object \n",
      " 21   title                           39706 non-null  object \n",
      " 22   zip_code                        39717 non-null  object \n",
      " 23   addr_state                      39717 non-null  object \n",
      " 24   dti                             39717 non-null  float64\n",
      " 25   delinq_2yrs                     39717 non-null  int64  \n",
      " 26   earliest_cr_line                39717 non-null  object \n",
      " 27   inq_last_6mths                  39717 non-null  int64  \n",
      " 28   mths_since_last_delinq          14035 non-null  float64\n",
      " 29   mths_since_last_record          2786 non-null   float64\n",
      " 30   open_acc                        39717 non-null  int64  \n",
      " 31   pub_rec                         39717 non-null  int64  \n",
      " 32   revol_bal                       39717 non-null  int64  \n",
      " 33   revol_util                      39667 non-null  object \n",
      " 34   total_acc                       39717 non-null  int64  \n",
      " 35   initial_list_status             39717 non-null  object \n",
      " 36   out_prncp                       39717 non-null  float64\n",
      " 37   out_prncp_inv                   39717 non-null  float64\n",
      " 38   total_pymnt                     39717 non-null  float64\n",
      " 39   total_pymnt_inv                 39717 non-null  float64\n",
      " 40   total_rec_prncp                 39717 non-null  float64\n",
      " 41   total_rec_int                   39717 non-null  float64\n",
      " 42   total_rec_late_fee              39717 non-null  float64\n",
      " 43   recoveries                      39717 non-null  float64\n",
      " 44   collection_recovery_fee         39717 non-null  float64\n",
      " 45   last_pymnt_d                    39646 non-null  object \n",
      " 46   last_pymnt_amnt                 39717 non-null  float64\n",
      " 47   next_pymnt_d                    1140 non-null   object \n",
      " 48   last_credit_pull_d              39715 non-null  object \n",
      " 49   collections_12_mths_ex_med      39661 non-null  float64\n",
      " 50   mths_since_last_major_derog     0 non-null      float64\n",
      " 51   policy_code                     39717 non-null  int64  \n",
      " 52   application_type                39717 non-null  object \n",
      " 53   annual_inc_joint                0 non-null      float64\n",
      " 54   dti_joint                       0 non-null      float64\n",
      " 55   verification_status_joint       0 non-null      float64\n",
      " 56   acc_now_delinq                  39717 non-null  int64  \n",
      " 57   tot_coll_amt                    0 non-null      float64\n",
      " 58   tot_cur_bal                     0 non-null      float64\n",
      " 59   open_acc_6m                     0 non-null      float64\n",
      " 60   open_il_6m                      0 non-null      float64\n",
      " 61   open_il_12m                     0 non-null      float64\n",
      " 62   open_il_24m                     0 non-null      float64\n",
      " 63   mths_since_rcnt_il              0 non-null      float64\n",
      " 64   total_bal_il                    0 non-null      float64\n",
      " 65   il_util                         0 non-null      float64\n",
      " 66   open_rv_12m                     0 non-null      float64\n",
      " 67   open_rv_24m                     0 non-null      float64\n",
      " 68   max_bal_bc                      0 non-null      float64\n",
      " 69   all_util                        0 non-null      float64\n",
      " 70   total_rev_hi_lim                0 non-null      float64\n",
      " 71   inq_fi                          0 non-null      float64\n",
      " 72   total_cu_tl                     0 non-null      float64\n",
      " 73   inq_last_12m                    0 non-null      float64\n",
      " 74   acc_open_past_24mths            0 non-null      float64\n",
      " 75   avg_cur_bal                     0 non-null      float64\n",
      " 76   bc_open_to_buy                  0 non-null      float64\n",
      " 77   bc_util                         0 non-null      float64\n",
      " 78   chargeoff_within_12_mths        39661 non-null  float64\n",
      " 79   delinq_amnt                     39717 non-null  int64  \n",
      " 80   mo_sin_old_il_acct              0 non-null      float64\n",
      " 81   mo_sin_old_rev_tl_op            0 non-null      float64\n",
      " 82   mo_sin_rcnt_rev_tl_op           0 non-null      float64\n",
      " 83   mo_sin_rcnt_tl                  0 non-null      float64\n",
      " 84   mort_acc                        0 non-null      float64\n",
      " 85   mths_since_recent_bc            0 non-null      float64\n",
      " 86   mths_since_recent_bc_dlq        0 non-null      float64\n",
      " 87   mths_since_recent_inq           0 non-null      float64\n",
      " 88   mths_since_recent_revol_delinq  0 non-null      float64\n",
      " 89   num_accts_ever_120_pd           0 non-null      float64\n",
      " 90   num_actv_bc_tl                  0 non-null      float64\n",
      " 91   num_actv_rev_tl                 0 non-null      float64\n",
      " 92   num_bc_sats                     0 non-null      float64\n",
      " 93   num_bc_tl                       0 non-null      float64\n",
      " 94   num_il_tl                       0 non-null      float64\n",
      " 95   num_op_rev_tl                   0 non-null      float64\n",
      " 96   num_rev_accts                   0 non-null      float64\n",
      " 97   num_rev_tl_bal_gt_0             0 non-null      float64\n",
      " 98   num_sats                        0 non-null      float64\n",
      " 99   num_tl_120dpd_2m                0 non-null      float64\n",
      " 100  num_tl_30dpd                    0 non-null      float64\n",
      " 101  num_tl_90g_dpd_24m              0 non-null      float64\n",
      " 102  num_tl_op_past_12m              0 non-null      float64\n",
      " 103  pct_tl_nvr_dlq                  0 non-null      float64\n",
      " 104  percent_bc_gt_75                0 non-null      float64\n",
      " 105  pub_rec_bankruptcies            39020 non-null  float64\n",
      " 106  tax_liens                       39678 non-null  float64\n",
      " 107  tot_hi_cred_lim                 0 non-null      float64\n",
      " 108  total_bal_ex_mort               0 non-null      float64\n",
      " 109  total_bc_limit                  0 non-null      float64\n",
      " 110  total_il_high_credit_limit      0 non-null      float64\n",
      "dtypes: float64(74), int64(13), object(24)\n",
      "memory usage: 33.6+ MB\n"
     ]
    }
   ],
   "source": [
    "# get information concise summary about data\n",
    "loan_data.info(max_cols=len(loan_data.columns)) # explictly mention max_cols to no of cols"
   ]
  },
  {
   "cell_type": "code",
   "execution_count": 139,
   "metadata": {},
   "outputs": [
    {
     "data": {
      "text/plain": [
       "Index(['id', 'member_id', 'loan_amnt', 'funded_amnt', 'funded_amnt_inv',\n",
       "       'term', 'int_rate', 'installment', 'grade', 'sub_grade',\n",
       "       ...\n",
       "       'num_tl_90g_dpd_24m', 'num_tl_op_past_12m', 'pct_tl_nvr_dlq',\n",
       "       'percent_bc_gt_75', 'pub_rec_bankruptcies', 'tax_liens',\n",
       "       'tot_hi_cred_lim', 'total_bal_ex_mort', 'total_bc_limit',\n",
       "       'total_il_high_credit_limit'],\n",
       "      dtype='object', length=111)"
      ]
     },
     "execution_count": 139,
     "metadata": {},
     "output_type": "execute_result"
    }
   ],
   "source": [
    "# get columns header name\n",
    "loan_data.columns"
   ]
  },
  {
   "cell_type": "code",
   "execution_count": 140,
   "metadata": {},
   "outputs": [
    {
     "name": "stdout",
     "output_type": "stream",
     "text": [
      "39717\n",
      "39717\n",
      "No duplicate rows.\n"
     ]
    }
   ],
   "source": [
    "# check for duplicate rows in dataset\n",
    "duplicate_row_count = loan_data.duplicated(subset=None, keep='first').count()\n",
    "print(duplicate_row_count)\n",
    "\n",
    "# size of loan dataset\n",
    "total_no_of_rows = len(loan_data)\n",
    "print(total_no_of_rows)\n",
    "\n",
    "# if both are equal that implies there is no duplicate\n",
    "if(total_no_of_rows == duplicate_row_count):\n",
    "    print(\"No duplicate rows.\")\n",
    "\n",
    "\n"
   ]
  },
  {
   "cell_type": "code",
   "execution_count": 141,
   "metadata": {},
   "outputs": [
    {
     "data": {
      "text/plain": [
       "id                                0\n",
       "member_id                         0\n",
       "loan_amnt                         0\n",
       "funded_amnt                       0\n",
       "funded_amnt_inv                   0\n",
       "                              ...  \n",
       "tax_liens                        39\n",
       "tot_hi_cred_lim               39717\n",
       "total_bal_ex_mort             39717\n",
       "total_bc_limit                39717\n",
       "total_il_high_credit_limit    39717\n",
       "Length: 111, dtype: int64"
      ]
     },
     "execution_count": 141,
     "metadata": {},
     "output_type": "execute_result"
    }
   ],
   "source": [
    "# check null count \n",
    "loan_data.isnull().sum()"
   ]
  },
  {
   "cell_type": "markdown",
   "metadata": {},
   "source": [
    "### Data Cleaning"
   ]
  },
  {
   "cell_type": "code",
   "execution_count": 142,
   "metadata": {},
   "outputs": [
    {
     "data": {
      "text/html": [
       "<div>\n",
       "<style scoped>\n",
       "    .dataframe tbody tr th:only-of-type {\n",
       "        vertical-align: middle;\n",
       "    }\n",
       "\n",
       "    .dataframe tbody tr th {\n",
       "        vertical-align: top;\n",
       "    }\n",
       "\n",
       "    .dataframe thead th {\n",
       "        text-align: right;\n",
       "    }\n",
       "</style>\n",
       "<table border=\"1\" class=\"dataframe\">\n",
       "  <thead>\n",
       "    <tr style=\"text-align: right;\">\n",
       "      <th></th>\n",
       "      <th>id</th>\n",
       "      <th>member_id</th>\n",
       "      <th>loan_amnt</th>\n",
       "      <th>funded_amnt</th>\n",
       "      <th>funded_amnt_inv</th>\n",
       "      <th>term</th>\n",
       "      <th>int_rate</th>\n",
       "      <th>installment</th>\n",
       "      <th>grade</th>\n",
       "      <th>sub_grade</th>\n",
       "      <th>...</th>\n",
       "      <th>next_pymnt_d</th>\n",
       "      <th>last_credit_pull_d</th>\n",
       "      <th>collections_12_mths_ex_med</th>\n",
       "      <th>policy_code</th>\n",
       "      <th>application_type</th>\n",
       "      <th>acc_now_delinq</th>\n",
       "      <th>chargeoff_within_12_mths</th>\n",
       "      <th>delinq_amnt</th>\n",
       "      <th>pub_rec_bankruptcies</th>\n",
       "      <th>tax_liens</th>\n",
       "    </tr>\n",
       "  </thead>\n",
       "  <tbody>\n",
       "    <tr>\n",
       "      <th>0</th>\n",
       "      <td>1077501</td>\n",
       "      <td>1296599</td>\n",
       "      <td>5000</td>\n",
       "      <td>5000</td>\n",
       "      <td>4975.0</td>\n",
       "      <td>36 months</td>\n",
       "      <td>10.65%</td>\n",
       "      <td>162.87</td>\n",
       "      <td>B</td>\n",
       "      <td>B2</td>\n",
       "      <td>...</td>\n",
       "      <td>NaN</td>\n",
       "      <td>May-16</td>\n",
       "      <td>0.0</td>\n",
       "      <td>1</td>\n",
       "      <td>INDIVIDUAL</td>\n",
       "      <td>0</td>\n",
       "      <td>0.0</td>\n",
       "      <td>0</td>\n",
       "      <td>0.0</td>\n",
       "      <td>0.0</td>\n",
       "    </tr>\n",
       "    <tr>\n",
       "      <th>1</th>\n",
       "      <td>1077430</td>\n",
       "      <td>1314167</td>\n",
       "      <td>2500</td>\n",
       "      <td>2500</td>\n",
       "      <td>2500.0</td>\n",
       "      <td>60 months</td>\n",
       "      <td>15.27%</td>\n",
       "      <td>59.83</td>\n",
       "      <td>C</td>\n",
       "      <td>C4</td>\n",
       "      <td>...</td>\n",
       "      <td>NaN</td>\n",
       "      <td>Sep-13</td>\n",
       "      <td>0.0</td>\n",
       "      <td>1</td>\n",
       "      <td>INDIVIDUAL</td>\n",
       "      <td>0</td>\n",
       "      <td>0.0</td>\n",
       "      <td>0</td>\n",
       "      <td>0.0</td>\n",
       "      <td>0.0</td>\n",
       "    </tr>\n",
       "    <tr>\n",
       "      <th>2</th>\n",
       "      <td>1077175</td>\n",
       "      <td>1313524</td>\n",
       "      <td>2400</td>\n",
       "      <td>2400</td>\n",
       "      <td>2400.0</td>\n",
       "      <td>36 months</td>\n",
       "      <td>15.96%</td>\n",
       "      <td>84.33</td>\n",
       "      <td>C</td>\n",
       "      <td>C5</td>\n",
       "      <td>...</td>\n",
       "      <td>NaN</td>\n",
       "      <td>May-16</td>\n",
       "      <td>0.0</td>\n",
       "      <td>1</td>\n",
       "      <td>INDIVIDUAL</td>\n",
       "      <td>0</td>\n",
       "      <td>0.0</td>\n",
       "      <td>0</td>\n",
       "      <td>0.0</td>\n",
       "      <td>0.0</td>\n",
       "    </tr>\n",
       "    <tr>\n",
       "      <th>3</th>\n",
       "      <td>1076863</td>\n",
       "      <td>1277178</td>\n",
       "      <td>10000</td>\n",
       "      <td>10000</td>\n",
       "      <td>10000.0</td>\n",
       "      <td>36 months</td>\n",
       "      <td>13.49%</td>\n",
       "      <td>339.31</td>\n",
       "      <td>C</td>\n",
       "      <td>C1</td>\n",
       "      <td>...</td>\n",
       "      <td>NaN</td>\n",
       "      <td>Apr-16</td>\n",
       "      <td>0.0</td>\n",
       "      <td>1</td>\n",
       "      <td>INDIVIDUAL</td>\n",
       "      <td>0</td>\n",
       "      <td>0.0</td>\n",
       "      <td>0</td>\n",
       "      <td>0.0</td>\n",
       "      <td>0.0</td>\n",
       "    </tr>\n",
       "    <tr>\n",
       "      <th>4</th>\n",
       "      <td>1075358</td>\n",
       "      <td>1311748</td>\n",
       "      <td>3000</td>\n",
       "      <td>3000</td>\n",
       "      <td>3000.0</td>\n",
       "      <td>60 months</td>\n",
       "      <td>12.69%</td>\n",
       "      <td>67.79</td>\n",
       "      <td>B</td>\n",
       "      <td>B5</td>\n",
       "      <td>...</td>\n",
       "      <td>Jun-16</td>\n",
       "      <td>May-16</td>\n",
       "      <td>0.0</td>\n",
       "      <td>1</td>\n",
       "      <td>INDIVIDUAL</td>\n",
       "      <td>0</td>\n",
       "      <td>0.0</td>\n",
       "      <td>0</td>\n",
       "      <td>0.0</td>\n",
       "      <td>0.0</td>\n",
       "    </tr>\n",
       "  </tbody>\n",
       "</table>\n",
       "<p>5 rows × 57 columns</p>\n",
       "</div>"
      ],
      "text/plain": [
       "        id  member_id  loan_amnt  funded_amnt  funded_amnt_inv        term  \\\n",
       "0  1077501    1296599       5000         5000           4975.0   36 months   \n",
       "1  1077430    1314167       2500         2500           2500.0   60 months   \n",
       "2  1077175    1313524       2400         2400           2400.0   36 months   \n",
       "3  1076863    1277178      10000        10000          10000.0   36 months   \n",
       "4  1075358    1311748       3000         3000           3000.0   60 months   \n",
       "\n",
       "  int_rate  installment grade sub_grade  ... next_pymnt_d last_credit_pull_d  \\\n",
       "0   10.65%       162.87     B        B2  ...          NaN             May-16   \n",
       "1   15.27%        59.83     C        C4  ...          NaN             Sep-13   \n",
       "2   15.96%        84.33     C        C5  ...          NaN             May-16   \n",
       "3   13.49%       339.31     C        C1  ...          NaN             Apr-16   \n",
       "4   12.69%        67.79     B        B5  ...       Jun-16             May-16   \n",
       "\n",
       "  collections_12_mths_ex_med  policy_code application_type acc_now_delinq  \\\n",
       "0                        0.0            1       INDIVIDUAL              0   \n",
       "1                        0.0            1       INDIVIDUAL              0   \n",
       "2                        0.0            1       INDIVIDUAL              0   \n",
       "3                        0.0            1       INDIVIDUAL              0   \n",
       "4                        0.0            1       INDIVIDUAL              0   \n",
       "\n",
       "  chargeoff_within_12_mths delinq_amnt pub_rec_bankruptcies tax_liens  \n",
       "0                      0.0           0                  0.0       0.0  \n",
       "1                      0.0           0                  0.0       0.0  \n",
       "2                      0.0           0                  0.0       0.0  \n",
       "3                      0.0           0                  0.0       0.0  \n",
       "4                      0.0           0                  0.0       0.0  \n",
       "\n",
       "[5 rows x 57 columns]"
      ]
     },
     "execution_count": 142,
     "metadata": {},
     "output_type": "execute_result"
    }
   ],
   "source": [
    "# removing all columns with null values \n",
    "loan_data.dropna(axis=1, how='all', inplace=True)\n",
    "loan_data.head()"
   ]
  },
  {
   "cell_type": "code",
   "execution_count": 143,
   "metadata": {},
   "outputs": [
    {
     "data": {
      "text/plain": [
       "(39717, 57)"
      ]
     },
     "execution_count": 143,
     "metadata": {},
     "output_type": "execute_result"
    }
   ],
   "source": [
    "# check shape of dataframe\n",
    "loan_data.shape\n",
    "## now we have 57 columns and previous we had 111 columns"
   ]
  },
  {
   "cell_type": "code",
   "execution_count": 144,
   "metadata": {},
   "outputs": [
    {
     "data": {
      "text/plain": [
       "False"
      ]
     },
     "execution_count": 144,
     "metadata": {},
     "output_type": "execute_result"
    }
   ],
   "source": [
    "# exploring unique value\n",
    "# loan_data[\"pymnt_plan\"]\n",
    "loan_data[\"pymnt_plan\"].unique().sum()\n",
    "loan_data[\"pymnt_plan\"].is_unique"
   ]
  },
  {
   "cell_type": "code",
   "execution_count": 145,
   "metadata": {},
   "outputs": [
    {
     "name": "stdout",
     "output_type": "stream",
     "text": [
      "Single-valued columns: ['pymnt_plan', 'initial_list_status', 'collections_12_mths_ex_med', 'policy_code', 'application_type', 'acc_now_delinq', 'chargeoff_within_12_mths', 'delinq_amnt', 'tax_liens']\n"
     ]
    }
   ],
   "source": [
    "# check is entire column has same value.\n",
    "# if so, list out those column name\n",
    "single_valued_columns = []\n",
    "\n",
    "for column in loan_data.columns:\n",
    "    if loan_data[column].nunique() == 1: # only one unique value\n",
    "        single_valued_columns.append(column)\n",
    "\n",
    "print(\"Single-valued columns:\", single_valued_columns)"
   ]
  },
  {
   "cell_type": "code",
   "execution_count": 146,
   "metadata": {},
   "outputs": [
    {
     "data": {
      "text/plain": [
       "['pymnt_plan',\n",
       " 'initial_list_status',\n",
       " 'collections_12_mths_ex_med',\n",
       " 'policy_code',\n",
       " 'application_type',\n",
       " 'acc_now_delinq',\n",
       " 'chargeoff_within_12_mths',\n",
       " 'delinq_amnt',\n",
       " 'tax_liens']"
      ]
     },
     "execution_count": 146,
     "metadata": {},
     "output_type": "execute_result"
    }
   ],
   "source": [
    "# columns with single value which doesn't make much sense or contribute to analysis\n",
    "single_valued_columns"
   ]
  },
  {
   "cell_type": "code",
   "execution_count": 148,
   "metadata": {},
   "outputs": [],
   "source": [
    "# removing single valued column as it have very little or no impact\n",
    "loan_data.drop(single_valued_columns,axis=1, inplace=True)\n"
   ]
  },
  {
   "cell_type": "code",
   "execution_count": 149,
   "metadata": {},
   "outputs": [
    {
     "data": {
      "text/html": [
       "<div>\n",
       "<style scoped>\n",
       "    .dataframe tbody tr th:only-of-type {\n",
       "        vertical-align: middle;\n",
       "    }\n",
       "\n",
       "    .dataframe tbody tr th {\n",
       "        vertical-align: top;\n",
       "    }\n",
       "\n",
       "    .dataframe thead th {\n",
       "        text-align: right;\n",
       "    }\n",
       "</style>\n",
       "<table border=\"1\" class=\"dataframe\">\n",
       "  <thead>\n",
       "    <tr style=\"text-align: right;\">\n",
       "      <th></th>\n",
       "      <th>id</th>\n",
       "      <th>member_id</th>\n",
       "      <th>loan_amnt</th>\n",
       "      <th>funded_amnt</th>\n",
       "      <th>funded_amnt_inv</th>\n",
       "      <th>term</th>\n",
       "      <th>int_rate</th>\n",
       "      <th>installment</th>\n",
       "      <th>grade</th>\n",
       "      <th>sub_grade</th>\n",
       "      <th>...</th>\n",
       "      <th>total_rec_prncp</th>\n",
       "      <th>total_rec_int</th>\n",
       "      <th>total_rec_late_fee</th>\n",
       "      <th>recoveries</th>\n",
       "      <th>collection_recovery_fee</th>\n",
       "      <th>last_pymnt_d</th>\n",
       "      <th>last_pymnt_amnt</th>\n",
       "      <th>next_pymnt_d</th>\n",
       "      <th>last_credit_pull_d</th>\n",
       "      <th>pub_rec_bankruptcies</th>\n",
       "    </tr>\n",
       "  </thead>\n",
       "  <tbody>\n",
       "    <tr>\n",
       "      <th>0</th>\n",
       "      <td>1077501</td>\n",
       "      <td>1296599</td>\n",
       "      <td>5000</td>\n",
       "      <td>5000</td>\n",
       "      <td>4975.0</td>\n",
       "      <td>36 months</td>\n",
       "      <td>10.65%</td>\n",
       "      <td>162.87</td>\n",
       "      <td>B</td>\n",
       "      <td>B2</td>\n",
       "      <td>...</td>\n",
       "      <td>5000.00</td>\n",
       "      <td>863.16</td>\n",
       "      <td>0.00</td>\n",
       "      <td>0.00</td>\n",
       "      <td>0.00</td>\n",
       "      <td>Jan-15</td>\n",
       "      <td>171.62</td>\n",
       "      <td>NaN</td>\n",
       "      <td>May-16</td>\n",
       "      <td>0.0</td>\n",
       "    </tr>\n",
       "    <tr>\n",
       "      <th>1</th>\n",
       "      <td>1077430</td>\n",
       "      <td>1314167</td>\n",
       "      <td>2500</td>\n",
       "      <td>2500</td>\n",
       "      <td>2500.0</td>\n",
       "      <td>60 months</td>\n",
       "      <td>15.27%</td>\n",
       "      <td>59.83</td>\n",
       "      <td>C</td>\n",
       "      <td>C4</td>\n",
       "      <td>...</td>\n",
       "      <td>456.46</td>\n",
       "      <td>435.17</td>\n",
       "      <td>0.00</td>\n",
       "      <td>117.08</td>\n",
       "      <td>1.11</td>\n",
       "      <td>Apr-13</td>\n",
       "      <td>119.66</td>\n",
       "      <td>NaN</td>\n",
       "      <td>Sep-13</td>\n",
       "      <td>0.0</td>\n",
       "    </tr>\n",
       "    <tr>\n",
       "      <th>2</th>\n",
       "      <td>1077175</td>\n",
       "      <td>1313524</td>\n",
       "      <td>2400</td>\n",
       "      <td>2400</td>\n",
       "      <td>2400.0</td>\n",
       "      <td>36 months</td>\n",
       "      <td>15.96%</td>\n",
       "      <td>84.33</td>\n",
       "      <td>C</td>\n",
       "      <td>C5</td>\n",
       "      <td>...</td>\n",
       "      <td>2400.00</td>\n",
       "      <td>605.67</td>\n",
       "      <td>0.00</td>\n",
       "      <td>0.00</td>\n",
       "      <td>0.00</td>\n",
       "      <td>Jun-14</td>\n",
       "      <td>649.91</td>\n",
       "      <td>NaN</td>\n",
       "      <td>May-16</td>\n",
       "      <td>0.0</td>\n",
       "    </tr>\n",
       "    <tr>\n",
       "      <th>3</th>\n",
       "      <td>1076863</td>\n",
       "      <td>1277178</td>\n",
       "      <td>10000</td>\n",
       "      <td>10000</td>\n",
       "      <td>10000.0</td>\n",
       "      <td>36 months</td>\n",
       "      <td>13.49%</td>\n",
       "      <td>339.31</td>\n",
       "      <td>C</td>\n",
       "      <td>C1</td>\n",
       "      <td>...</td>\n",
       "      <td>10000.00</td>\n",
       "      <td>2214.92</td>\n",
       "      <td>16.97</td>\n",
       "      <td>0.00</td>\n",
       "      <td>0.00</td>\n",
       "      <td>Jan-15</td>\n",
       "      <td>357.48</td>\n",
       "      <td>NaN</td>\n",
       "      <td>Apr-16</td>\n",
       "      <td>0.0</td>\n",
       "    </tr>\n",
       "    <tr>\n",
       "      <th>4</th>\n",
       "      <td>1075358</td>\n",
       "      <td>1311748</td>\n",
       "      <td>3000</td>\n",
       "      <td>3000</td>\n",
       "      <td>3000.0</td>\n",
       "      <td>60 months</td>\n",
       "      <td>12.69%</td>\n",
       "      <td>67.79</td>\n",
       "      <td>B</td>\n",
       "      <td>B5</td>\n",
       "      <td>...</td>\n",
       "      <td>2475.94</td>\n",
       "      <td>1037.39</td>\n",
       "      <td>0.00</td>\n",
       "      <td>0.00</td>\n",
       "      <td>0.00</td>\n",
       "      <td>May-16</td>\n",
       "      <td>67.79</td>\n",
       "      <td>Jun-16</td>\n",
       "      <td>May-16</td>\n",
       "      <td>0.0</td>\n",
       "    </tr>\n",
       "  </tbody>\n",
       "</table>\n",
       "<p>5 rows × 48 columns</p>\n",
       "</div>"
      ],
      "text/plain": [
       "        id  member_id  loan_amnt  funded_amnt  funded_amnt_inv        term  \\\n",
       "0  1077501    1296599       5000         5000           4975.0   36 months   \n",
       "1  1077430    1314167       2500         2500           2500.0   60 months   \n",
       "2  1077175    1313524       2400         2400           2400.0   36 months   \n",
       "3  1076863    1277178      10000        10000          10000.0   36 months   \n",
       "4  1075358    1311748       3000         3000           3000.0   60 months   \n",
       "\n",
       "  int_rate  installment grade sub_grade  ... total_rec_prncp total_rec_int  \\\n",
       "0   10.65%       162.87     B        B2  ...         5000.00        863.16   \n",
       "1   15.27%        59.83     C        C4  ...          456.46        435.17   \n",
       "2   15.96%        84.33     C        C5  ...         2400.00        605.67   \n",
       "3   13.49%       339.31     C        C1  ...        10000.00       2214.92   \n",
       "4   12.69%        67.79     B        B5  ...         2475.94       1037.39   \n",
       "\n",
       "  total_rec_late_fee  recoveries collection_recovery_fee last_pymnt_d  \\\n",
       "0               0.00        0.00                    0.00       Jan-15   \n",
       "1               0.00      117.08                    1.11       Apr-13   \n",
       "2               0.00        0.00                    0.00       Jun-14   \n",
       "3              16.97        0.00                    0.00       Jan-15   \n",
       "4               0.00        0.00                    0.00       May-16   \n",
       "\n",
       "  last_pymnt_amnt next_pymnt_d last_credit_pull_d pub_rec_bankruptcies  \n",
       "0          171.62          NaN             May-16                  0.0  \n",
       "1          119.66          NaN             Sep-13                  0.0  \n",
       "2          649.91          NaN             May-16                  0.0  \n",
       "3          357.48          NaN             Apr-16                  0.0  \n",
       "4           67.79       Jun-16             May-16                  0.0  \n",
       "\n",
       "[5 rows x 48 columns]"
      ]
     },
     "execution_count": 149,
     "metadata": {},
     "output_type": "execute_result"
    }
   ],
   "source": [
    "# display first 5 rows after removal of single valued column\n",
    "loan_data.head()\n",
    "\n",
    "# now we have 48 columns left "
   ]
  },
  {
   "cell_type": "code",
   "execution_count": 150,
   "metadata": {},
   "outputs": [
    {
     "data": {
      "text/plain": [
       "Index(['id', 'member_id', 'loan_amnt', 'funded_amnt', 'funded_amnt_inv',\n",
       "       'term', 'int_rate', 'installment', 'grade', 'sub_grade', 'emp_title',\n",
       "       'emp_length', 'home_ownership', 'annual_inc', 'verification_status',\n",
       "       'issue_d', 'loan_status', 'url', 'desc', 'purpose', 'title', 'zip_code',\n",
       "       'addr_state', 'dti', 'delinq_2yrs', 'earliest_cr_line',\n",
       "       'inq_last_6mths', 'mths_since_last_delinq', 'mths_since_last_record',\n",
       "       'open_acc', 'pub_rec', 'revol_bal', 'revol_util', 'total_acc',\n",
       "       'out_prncp', 'out_prncp_inv', 'total_pymnt', 'total_pymnt_inv',\n",
       "       'total_rec_prncp', 'total_rec_int', 'total_rec_late_fee', 'recoveries',\n",
       "       'collection_recovery_fee', 'last_pymnt_d', 'last_pymnt_amnt',\n",
       "       'next_pymnt_d', 'last_credit_pull_d', 'pub_rec_bankruptcies'],\n",
       "      dtype='object')"
      ]
     },
     "execution_count": 150,
     "metadata": {},
     "output_type": "execute_result"
    }
   ],
   "source": [
    "# name of available colums \n",
    "loan_data.columns"
   ]
  },
  {
   "cell_type": "markdown",
   "metadata": {},
   "source": [
    "##### dropping few more additional columns\n",
    "some columns are valid only after loan is approved. They are:\n",
    "- delinq_2yrs\n",
    "- last_pymnt_d\n",
    "- total_rec_late_fee\n",
    "- last_pymnt_amnt\n",
    "- next_pymnt_d\n",
    "- revol_bal\n",
    "- out_prncp\n",
    "- total_rec_prncp\n",
    "- total_pymnt\n",
    "- total_rec_int\n",
    "- recoveries\n",
    "- chargeoff_within_12_mths\n",
    "- collection_recovery_fee\n",
    "- mths_since_last_record\n",
    "- mths_since_last_delinq\n",
    "- last_credit_pull_d\n",
    "\n",
    "\n",
    "\n",
    "so we can remove these columns are they are not contibuting in decision making of loan application.\n",
    "\n",
    "Additionally few more columns with   \n",
    "- `desc` -> has text information and makes more sense for already approved or current loans \n",
    "- `memeber_id` -> is also not useful in determining loan\n",
    "- `out_prncp_inv`  and `total_pymnt_inv` -> is releavent for investors and doesn't impact prediction of loan approval or rejection process.\n",
    "- `funded_amnt_inv` -> this is the amount commited by investor so can be removed too.\n",
    "- `url` -> is not relevant in determining loan  as it contains URL for the LC page.\n",
    "- `id` -> is index variable which has unique values but doesn't help on determining loan approval. \n",
    "- `title`, `emp_title` -> are descriptive text or noun does't contibute in analysis."
   ]
  },
  {
   "cell_type": "code",
   "execution_count": 151,
   "metadata": {},
   "outputs": [],
   "source": [
    "# droping columns which is vaild post approval of loan\n",
    "loan_data.drop([\"delinq_2yrs\",\n",
    "\"last_pymnt_d\",\n",
    "\"total_rec_late_fee\",\n",
    "\"last_pymnt_amnt\",\n",
    "\"next_pymnt_d\",\n",
    "\"revol_bal\",\n",
    "\"out_prncp\",\n",
    "\"total_rec_prncp\",\n",
    "\"total_pymnt\",\n",
    "\"total_rec_int\",\n",
    "\"recoveries\",\n",
    "\"collection_recovery_fee\",\n",
    "\"mths_since_last_record\",\n",
    "\"mths_since_last_delinq\",\n",
    "\"out_prncp_inv\",\n",
    "\"total_pymnt_inv\",\n",
    "\"desc\",\n",
    "\"member_id\",\n",
    "\"id\", \n",
    "\"title\", \n",
    "\"emp_title\",\n",
    "# \"funded_amnt_inv\",\n",
    "\"last_credit_pull_d\",\n",
    "\"url\"], axis = 1, inplace = True)"
   ]
  },
  {
   "cell_type": "code",
   "execution_count": 152,
   "metadata": {},
   "outputs": [
    {
     "data": {
      "text/plain": [
       "(39717, 25)"
      ]
     },
     "execution_count": 152,
     "metadata": {},
     "output_type": "execute_result"
    }
   ],
   "source": [
    "# check dimension of the loan dataset\n",
    "loan_data.shape\n"
   ]
  },
  {
   "cell_type": "code",
   "execution_count": 153,
   "metadata": {},
   "outputs": [
    {
     "data": {
      "text/plain": [
       "Index(['loan_amnt', 'funded_amnt', 'funded_amnt_inv', 'term', 'int_rate',\n",
       "       'installment', 'grade', 'sub_grade', 'emp_length', 'home_ownership',\n",
       "       'annual_inc', 'verification_status', 'issue_d', 'loan_status',\n",
       "       'purpose', 'zip_code', 'addr_state', 'dti', 'earliest_cr_line',\n",
       "       'inq_last_6mths', 'open_acc', 'pub_rec', 'revol_util', 'total_acc',\n",
       "       'pub_rec_bankruptcies'],\n",
       "      dtype='object')"
      ]
     },
     "execution_count": 153,
     "metadata": {},
     "output_type": "execute_result"
    }
   ],
   "source": [
    "# get name of all columns\n",
    "loan_data.columns"
   ]
  },
  {
   "cell_type": "code",
   "execution_count": 154,
   "metadata": {},
   "outputs": [
    {
     "name": "stdout",
     "output_type": "stream",
     "text": [
      "<class 'pandas.core.frame.DataFrame'>\n",
      "RangeIndex: 39717 entries, 0 to 39716\n",
      "Data columns (total 25 columns):\n",
      " #   Column                Non-Null Count  Dtype  \n",
      "---  ------                --------------  -----  \n",
      " 0   loan_amnt             39717 non-null  int64  \n",
      " 1   funded_amnt           39717 non-null  int64  \n",
      " 2   funded_amnt_inv       39717 non-null  float64\n",
      " 3   term                  39717 non-null  object \n",
      " 4   int_rate              39717 non-null  object \n",
      " 5   installment           39717 non-null  float64\n",
      " 6   grade                 39717 non-null  object \n",
      " 7   sub_grade             39717 non-null  object \n",
      " 8   emp_length            38642 non-null  object \n",
      " 9   home_ownership        39717 non-null  object \n",
      " 10  annual_inc            39717 non-null  float64\n",
      " 11  verification_status   39717 non-null  object \n",
      " 12  issue_d               39717 non-null  object \n",
      " 13  loan_status           39717 non-null  object \n",
      " 14  purpose               39717 non-null  object \n",
      " 15  zip_code              39717 non-null  object \n",
      " 16  addr_state            39717 non-null  object \n",
      " 17  dti                   39717 non-null  float64\n",
      " 18  earliest_cr_line      39717 non-null  object \n",
      " 19  inq_last_6mths        39717 non-null  int64  \n",
      " 20  open_acc              39717 non-null  int64  \n",
      " 21  pub_rec               39717 non-null  int64  \n",
      " 22  revol_util            39667 non-null  object \n",
      " 23  total_acc             39717 non-null  int64  \n",
      " 24  pub_rec_bankruptcies  39020 non-null  float64\n",
      "dtypes: float64(5), int64(6), object(14)\n",
      "memory usage: 7.6+ MB\n"
     ]
    }
   ],
   "source": [
    "# check for concise information summary about data\n",
    "loan_data.info()"
   ]
  },
  {
   "cell_type": "code",
   "execution_count": 188,
   "metadata": {},
   "outputs": [],
   "source": [
    "# Drop the rows where loan_status is current as there are active loan and is under repayment\n",
    "loan_df = loan_data[loan_data['loan_status'] != \"Current\"]"
   ]
  },
  {
   "cell_type": "code",
   "execution_count": 189,
   "metadata": {},
   "outputs": [
    {
     "data": {
      "text/plain": [
       "array(['Fully Paid', 'Charged Off'], dtype=object)"
      ]
     },
     "execution_count": 189,
     "metadata": {},
     "output_type": "execute_result"
    }
   ],
   "source": [
    "# check of loan status uniqiue values\n",
    "loan_df.loan_status.unique()"
   ]
  },
  {
   "cell_type": "code",
   "execution_count": 157,
   "metadata": {},
   "outputs": [
    {
     "data": {
      "text/html": [
       "<div>\n",
       "<style scoped>\n",
       "    .dataframe tbody tr th:only-of-type {\n",
       "        vertical-align: middle;\n",
       "    }\n",
       "\n",
       "    .dataframe tbody tr th {\n",
       "        vertical-align: top;\n",
       "    }\n",
       "\n",
       "    .dataframe thead th {\n",
       "        text-align: right;\n",
       "    }\n",
       "</style>\n",
       "<table border=\"1\" class=\"dataframe\">\n",
       "  <thead>\n",
       "    <tr style=\"text-align: right;\">\n",
       "      <th></th>\n",
       "      <th>loan_amnt</th>\n",
       "      <th>funded_amnt</th>\n",
       "      <th>funded_amnt_inv</th>\n",
       "      <th>term</th>\n",
       "      <th>int_rate</th>\n",
       "      <th>installment</th>\n",
       "      <th>grade</th>\n",
       "      <th>sub_grade</th>\n",
       "      <th>emp_length</th>\n",
       "      <th>home_ownership</th>\n",
       "      <th>...</th>\n",
       "      <th>zip_code</th>\n",
       "      <th>addr_state</th>\n",
       "      <th>dti</th>\n",
       "      <th>earliest_cr_line</th>\n",
       "      <th>inq_last_6mths</th>\n",
       "      <th>open_acc</th>\n",
       "      <th>pub_rec</th>\n",
       "      <th>revol_util</th>\n",
       "      <th>total_acc</th>\n",
       "      <th>pub_rec_bankruptcies</th>\n",
       "    </tr>\n",
       "  </thead>\n",
       "  <tbody>\n",
       "    <tr>\n",
       "      <th>0</th>\n",
       "      <td>5000</td>\n",
       "      <td>5000</td>\n",
       "      <td>4975.0</td>\n",
       "      <td>36 months</td>\n",
       "      <td>10.65%</td>\n",
       "      <td>162.87</td>\n",
       "      <td>B</td>\n",
       "      <td>B2</td>\n",
       "      <td>10+ years</td>\n",
       "      <td>RENT</td>\n",
       "      <td>...</td>\n",
       "      <td>860xx</td>\n",
       "      <td>AZ</td>\n",
       "      <td>27.65</td>\n",
       "      <td>Jan-85</td>\n",
       "      <td>1</td>\n",
       "      <td>3</td>\n",
       "      <td>0</td>\n",
       "      <td>83.70%</td>\n",
       "      <td>9</td>\n",
       "      <td>0.0</td>\n",
       "    </tr>\n",
       "    <tr>\n",
       "      <th>1</th>\n",
       "      <td>2500</td>\n",
       "      <td>2500</td>\n",
       "      <td>2500.0</td>\n",
       "      <td>60 months</td>\n",
       "      <td>15.27%</td>\n",
       "      <td>59.83</td>\n",
       "      <td>C</td>\n",
       "      <td>C4</td>\n",
       "      <td>&lt; 1 year</td>\n",
       "      <td>RENT</td>\n",
       "      <td>...</td>\n",
       "      <td>309xx</td>\n",
       "      <td>GA</td>\n",
       "      <td>1.00</td>\n",
       "      <td>Apr-99</td>\n",
       "      <td>5</td>\n",
       "      <td>3</td>\n",
       "      <td>0</td>\n",
       "      <td>9.40%</td>\n",
       "      <td>4</td>\n",
       "      <td>0.0</td>\n",
       "    </tr>\n",
       "    <tr>\n",
       "      <th>2</th>\n",
       "      <td>2400</td>\n",
       "      <td>2400</td>\n",
       "      <td>2400.0</td>\n",
       "      <td>36 months</td>\n",
       "      <td>15.96%</td>\n",
       "      <td>84.33</td>\n",
       "      <td>C</td>\n",
       "      <td>C5</td>\n",
       "      <td>10+ years</td>\n",
       "      <td>RENT</td>\n",
       "      <td>...</td>\n",
       "      <td>606xx</td>\n",
       "      <td>IL</td>\n",
       "      <td>8.72</td>\n",
       "      <td>Nov-01</td>\n",
       "      <td>2</td>\n",
       "      <td>2</td>\n",
       "      <td>0</td>\n",
       "      <td>98.50%</td>\n",
       "      <td>10</td>\n",
       "      <td>0.0</td>\n",
       "    </tr>\n",
       "    <tr>\n",
       "      <th>3</th>\n",
       "      <td>10000</td>\n",
       "      <td>10000</td>\n",
       "      <td>10000.0</td>\n",
       "      <td>36 months</td>\n",
       "      <td>13.49%</td>\n",
       "      <td>339.31</td>\n",
       "      <td>C</td>\n",
       "      <td>C1</td>\n",
       "      <td>10+ years</td>\n",
       "      <td>RENT</td>\n",
       "      <td>...</td>\n",
       "      <td>917xx</td>\n",
       "      <td>CA</td>\n",
       "      <td>20.00</td>\n",
       "      <td>Feb-96</td>\n",
       "      <td>1</td>\n",
       "      <td>10</td>\n",
       "      <td>0</td>\n",
       "      <td>21%</td>\n",
       "      <td>37</td>\n",
       "      <td>0.0</td>\n",
       "    </tr>\n",
       "    <tr>\n",
       "      <th>5</th>\n",
       "      <td>5000</td>\n",
       "      <td>5000</td>\n",
       "      <td>5000.0</td>\n",
       "      <td>36 months</td>\n",
       "      <td>7.90%</td>\n",
       "      <td>156.46</td>\n",
       "      <td>A</td>\n",
       "      <td>A4</td>\n",
       "      <td>3 years</td>\n",
       "      <td>RENT</td>\n",
       "      <td>...</td>\n",
       "      <td>852xx</td>\n",
       "      <td>AZ</td>\n",
       "      <td>11.20</td>\n",
       "      <td>Nov-04</td>\n",
       "      <td>3</td>\n",
       "      <td>9</td>\n",
       "      <td>0</td>\n",
       "      <td>28.30%</td>\n",
       "      <td>12</td>\n",
       "      <td>0.0</td>\n",
       "    </tr>\n",
       "  </tbody>\n",
       "</table>\n",
       "<p>5 rows × 25 columns</p>\n",
       "</div>"
      ],
      "text/plain": [
       "   loan_amnt  funded_amnt  funded_amnt_inv        term int_rate  installment  \\\n",
       "0       5000         5000           4975.0   36 months   10.65%       162.87   \n",
       "1       2500         2500           2500.0   60 months   15.27%        59.83   \n",
       "2       2400         2400           2400.0   36 months   15.96%        84.33   \n",
       "3      10000        10000          10000.0   36 months   13.49%       339.31   \n",
       "5       5000         5000           5000.0   36 months    7.90%       156.46   \n",
       "\n",
       "  grade sub_grade emp_length home_ownership  ...  zip_code addr_state    dti  \\\n",
       "0     B        B2  10+ years           RENT  ...     860xx         AZ  27.65   \n",
       "1     C        C4   < 1 year           RENT  ...     309xx         GA   1.00   \n",
       "2     C        C5  10+ years           RENT  ...     606xx         IL   8.72   \n",
       "3     C        C1  10+ years           RENT  ...     917xx         CA  20.00   \n",
       "5     A        A4    3 years           RENT  ...     852xx         AZ  11.20   \n",
       "\n",
       "  earliest_cr_line inq_last_6mths open_acc pub_rec  revol_util total_acc  \\\n",
       "0           Jan-85              1        3       0      83.70%         9   \n",
       "1           Apr-99              5        3       0       9.40%         4   \n",
       "2           Nov-01              2        2       0      98.50%        10   \n",
       "3           Feb-96              1       10       0         21%        37   \n",
       "5           Nov-04              3        9       0      28.30%        12   \n",
       "\n",
       "   pub_rec_bankruptcies  \n",
       "0                   0.0  \n",
       "1                   0.0  \n",
       "2                   0.0  \n",
       "3                   0.0  \n",
       "5                   0.0  \n",
       "\n",
       "[5 rows x 25 columns]"
      ]
     },
     "execution_count": 157,
     "metadata": {},
     "output_type": "execute_result"
    }
   ],
   "source": [
    "loan_df.head()"
   ]
  },
  {
   "cell_type": "code",
   "execution_count": 158,
   "metadata": {},
   "outputs": [
    {
     "data": {
      "text/plain": [
       "loan_amnt               0.000000\n",
       "funded_amnt             0.000000\n",
       "funded_amnt_inv         0.000000\n",
       "term                    0.000000\n",
       "int_rate                0.000000\n",
       "installment             0.000000\n",
       "grade                   0.000000\n",
       "sub_grade               0.000000\n",
       "emp_length              2.677761\n",
       "home_ownership          0.000000\n",
       "annual_inc              0.000000\n",
       "verification_status     0.000000\n",
       "issue_d                 0.000000\n",
       "loan_status             0.000000\n",
       "purpose                 0.000000\n",
       "zip_code                0.000000\n",
       "addr_state              0.000000\n",
       "dti                     0.000000\n",
       "earliest_cr_line        0.000000\n",
       "inq_last_6mths          0.000000\n",
       "open_acc                0.000000\n",
       "pub_rec                 0.000000\n",
       "revol_util              0.129611\n",
       "total_acc               0.000000\n",
       "pub_rec_bankruptcies    1.806776\n",
       "dtype: float64"
      ]
     },
     "execution_count": 158,
     "metadata": {},
     "output_type": "execute_result"
    }
   ],
   "source": [
    "# check missing values\n",
    "(loan_df.isna().sum()/len(loan_df.index))*100"
   ]
  },
  {
   "cell_type": "markdown",
   "metadata": {},
   "source": [
    "#### Handle missing values\n",
    "we have missing values for emp_length, revol_util, pub_rec_bankruptcies.\n",
    "let's drop missing values for columns less than 2% and fill with mode/median value for greater than 2%.\n"
   ]
  },
  {
   "cell_type": "code",
   "execution_count": 159,
   "metadata": {},
   "outputs": [
    {
     "data": {
      "text/plain": [
       "dtype('O')"
      ]
     },
     "execution_count": 159,
     "metadata": {},
     "output_type": "execute_result"
    }
   ],
   "source": [
    "# check type of emp_length\n",
    "loan_df[\"emp_length\"].dtypes"
   ]
  },
  {
   "cell_type": "code",
   "execution_count": 160,
   "metadata": {},
   "outputs": [
    {
     "name": "stdout",
     "output_type": "stream",
     "text": [
      "Mode : 10+ years\n"
     ]
    },
    {
     "data": {
      "text/plain": [
       "emp_length\n",
       "10+ years    8488\n",
       "< 1 year     4508\n",
       "2 years      4291\n",
       "3 years      4012\n",
       "4 years      3342\n",
       "5 years      3194\n",
       "1 year       3169\n",
       "6 years      2168\n",
       "7 years      1711\n",
       "8 years      1435\n",
       "9 years      1226\n",
       "Name: count, dtype: int64"
      ]
     },
     "execution_count": 160,
     "metadata": {},
     "output_type": "execute_result"
    }
   ],
   "source": [
    "# calculate mode of emp_length\n",
    "emp_len_mode = loan_df.emp_length.mode()[0]\n",
    "print(\"Mode : \" + emp_len_mode)\n",
    "\n",
    "# Diplay count by emp_length\n",
    "loan_df.emp_length.value_counts()"
   ]
  },
  {
   "cell_type": "markdown",
   "metadata": {},
   "source": [
    "Now, we can notice that mode value has higher frequency count than next most frequency value. Thus, it will be safe to assign mode value to null and missing values. Also, missing value percentage is very less so it won't make much impact."
   ]
  },
  {
   "cell_type": "code",
   "execution_count": 161,
   "metadata": {},
   "outputs": [
    {
     "data": {
      "text/plain": [
       "np.int64(0)"
      ]
     },
     "execution_count": 161,
     "metadata": {},
     "output_type": "execute_result"
    }
   ],
   "source": [
    "loan_df[\"emp_length\"].fillna(emp_len_mode, inplace=True)\n",
    "loan_df[\"emp_length\"].isna().sum()"
   ]
  },
  {
   "cell_type": "code",
   "execution_count": 162,
   "metadata": {},
   "outputs": [
    {
     "data": {
      "text/plain": [
       "np.int64(0)"
      ]
     },
     "execution_count": 162,
     "metadata": {},
     "output_type": "execute_result"
    }
   ],
   "source": [
    "# drop missing value for revol_util as it's very few and less than 2% \n",
    "loan_df.dropna(axis = 0, subset = ['revol_util'] , inplace = True) \n",
    "loan_df[\"revol_util\"].isna().sum()"
   ]
  },
  {
   "cell_type": "code",
   "execution_count": 163,
   "metadata": {},
   "outputs": [
    {
     "data": {
      "text/plain": [
       "np.int64(0)"
      ]
     },
     "execution_count": 163,
     "metadata": {},
     "output_type": "execute_result"
    }
   ],
   "source": [
    "# drop missing value for pub_rec_bankruptcies as it's very few and less than 2% \n",
    "loan_df.dropna(axis = 0, subset = ['pub_rec_bankruptcies'] , inplace = True) \n",
    "loan_df[\"pub_rec_bankruptcies\"].isna().sum()"
   ]
  },
  {
   "cell_type": "code",
   "execution_count": 164,
   "metadata": {},
   "outputs": [
    {
     "data": {
      "text/plain": [
       "(37830, 25)"
      ]
     },
     "execution_count": 164,
     "metadata": {},
     "output_type": "execute_result"
    }
   ],
   "source": [
    "# check shape of dataframe\n",
    "loan_df.shape"
   ]
  },
  {
   "cell_type": "code",
   "execution_count": 165,
   "metadata": {},
   "outputs": [
    {
     "name": "stdout",
     "output_type": "stream",
     "text": [
      "<class 'pandas.core.frame.DataFrame'>\n",
      "Index: 37830 entries, 0 to 39680\n",
      "Data columns (total 25 columns):\n",
      " #   Column                Non-Null Count  Dtype  \n",
      "---  ------                --------------  -----  \n",
      " 0   loan_amnt             37830 non-null  int64  \n",
      " 1   funded_amnt           37830 non-null  int64  \n",
      " 2   funded_amnt_inv       37830 non-null  float64\n",
      " 3   term                  37830 non-null  object \n",
      " 4   int_rate              37830 non-null  object \n",
      " 5   installment           37830 non-null  float64\n",
      " 6   grade                 37830 non-null  object \n",
      " 7   sub_grade             37830 non-null  object \n",
      " 8   emp_length            37830 non-null  object \n",
      " 9   home_ownership        37830 non-null  object \n",
      " 10  annual_inc            37830 non-null  float64\n",
      " 11  verification_status   37830 non-null  object \n",
      " 12  issue_d               37830 non-null  object \n",
      " 13  loan_status           37830 non-null  object \n",
      " 14  purpose               37830 non-null  object \n",
      " 15  zip_code              37830 non-null  object \n",
      " 16  addr_state            37830 non-null  object \n",
      " 17  dti                   37830 non-null  float64\n",
      " 18  earliest_cr_line      37830 non-null  object \n",
      " 19  inq_last_6mths        37830 non-null  int64  \n",
      " 20  open_acc              37830 non-null  int64  \n",
      " 21  pub_rec               37830 non-null  int64  \n",
      " 22  revol_util            37830 non-null  object \n",
      " 23  total_acc             37830 non-null  int64  \n",
      " 24  pub_rec_bankruptcies  37830 non-null  float64\n",
      "dtypes: float64(5), int64(6), object(14)\n",
      "memory usage: 7.5+ MB\n"
     ]
    }
   ],
   "source": [
    "# check for concise information summary about data\n",
    "loan_df.info()"
   ]
  },
  {
   "cell_type": "markdown",
   "metadata": {},
   "source": [
    "#### Data conversion\n"
   ]
  },
  {
   "cell_type": "code",
   "execution_count": 166,
   "metadata": {},
   "outputs": [],
   "source": [
    "# loan_amnt and funded_amnt is int64 but better suited type is float so conveting to float64\n",
    "loan_df = loan_df.astype({'loan_amnt': \"float\", \"funded_amnt\":\"float\"})\n"
   ]
  },
  {
   "cell_type": "code",
   "execution_count": 167,
   "metadata": {},
   "outputs": [],
   "source": [
    "# convert term column to integer as it contains month values\n",
    "loan_df[\"term\"] = loan_df[\"term\"].apply(lambda x: int(x[:-7]))\n"
   ]
  },
  {
   "cell_type": "code",
   "execution_count": 168,
   "metadata": {},
   "outputs": [],
   "source": [
    "# Convert int_rate to float by removing the % character at end\n",
    "loan_df['int_rate'] = loan_df[\"int_rate\"].apply(lambda x: float(x[:-1]))"
   ]
  },
  {
   "cell_type": "code",
   "execution_count": 169,
   "metadata": {},
   "outputs": [],
   "source": [
    "loan_df.revol_util = pd.to_numeric(loan_df.revol_util.apply(lambda x : x.split('%')[0]))"
   ]
  },
  {
   "cell_type": "code",
   "execution_count": 170,
   "metadata": {},
   "outputs": [],
   "source": [
    "# convert emp_length to numerical data to get better statistical analysis\n",
    "loan_df['emp_length'] = loan_df['emp_length'].replace({'< 1 year': 0, '2 years': 2, '3 years': 3, \n",
    "                                                         '7 years': 7, '4 years': 4, '5 years': 5, \n",
    "                                                         '1 year': 1, '6 years': 6, '8 years': 8, \n",
    "                                                         '9 years': 9,  '10+ years': 10})"
   ]
  },
  {
   "cell_type": "code",
   "execution_count": 171,
   "metadata": {},
   "outputs": [
    {
     "name": "stdout",
     "output_type": "stream",
     "text": [
      "<class 'pandas.core.frame.DataFrame'>\n",
      "Index: 37830 entries, 0 to 39680\n",
      "Data columns (total 25 columns):\n",
      " #   Column                Non-Null Count  Dtype  \n",
      "---  ------                --------------  -----  \n",
      " 0   loan_amnt             37830 non-null  float64\n",
      " 1   funded_amnt           37830 non-null  float64\n",
      " 2   funded_amnt_inv       37830 non-null  float64\n",
      " 3   term                  37830 non-null  int64  \n",
      " 4   int_rate              37830 non-null  float64\n",
      " 5   installment           37830 non-null  float64\n",
      " 6   grade                 37830 non-null  object \n",
      " 7   sub_grade             37830 non-null  object \n",
      " 8   emp_length            37830 non-null  int64  \n",
      " 9   home_ownership        37830 non-null  object \n",
      " 10  annual_inc            37830 non-null  float64\n",
      " 11  verification_status   37830 non-null  object \n",
      " 12  issue_d               37830 non-null  object \n",
      " 13  loan_status           37830 non-null  object \n",
      " 14  purpose               37830 non-null  object \n",
      " 15  zip_code              37830 non-null  object \n",
      " 16  addr_state            37830 non-null  object \n",
      " 17  dti                   37830 non-null  float64\n",
      " 18  earliest_cr_line      37830 non-null  object \n",
      " 19  inq_last_6mths        37830 non-null  int64  \n",
      " 20  open_acc              37830 non-null  int64  \n",
      " 21  pub_rec               37830 non-null  int64  \n",
      " 22  revol_util            37830 non-null  float64\n",
      " 23  total_acc             37830 non-null  int64  \n",
      " 24  pub_rec_bankruptcies  37830 non-null  float64\n",
      "dtypes: float64(9), int64(6), object(10)\n",
      "memory usage: 7.5+ MB\n"
     ]
    }
   ],
   "source": [
    "loan_df.info()"
   ]
  },
  {
   "cell_type": "code",
   "execution_count": 258,
   "metadata": {},
   "outputs": [],
   "source": [
    "# Convert issue_d column from object to DateTime\n",
    "loan_df['issue_d'] = pd.to_datetime(loan_df['issue_d'], format='%b-%y')"
   ]
  },
  {
   "cell_type": "code",
   "execution_count": 265,
   "metadata": {},
   "outputs": [],
   "source": [
    "# Adding additional column for Year and Month for analysis extrating Year and Month from issue_d\n",
    "loan_df['issue_year'] = pd.DatetimeIndex(loan_df['issue_d']).year\n",
    "loan_df['issue_month'] = pd.DatetimeIndex(loan_df['issue_d']).month"
   ]
  },
  {
   "cell_type": "markdown",
   "metadata": {},
   "source": [
    "#### Check for Outlier"
   ]
  },
  {
   "cell_type": "code",
   "execution_count": 174,
   "metadata": {},
   "outputs": [
    {
     "data": {
      "image/png": "[encoded data removed]",
      "text/plain": [
       "<Figure size 640x480 with 1 Axes>"
      ]
     },
     "metadata": {},
     "output_type": "display_data"
    }
   ],
   "source": [
    "sns.boxplot(loan_data['annual_inc'])\n",
    "plt.show()"
   ]
  },
  {
   "cell_type": "code",
   "execution_count": 175,
   "metadata": {},
   "outputs": [
    {
     "data": {
      "text/plain": [
       "0.50     59000.0\n",
       "0.20     37440.0\n",
       "0.50     59000.0\n",
       "0.75     82000.0\n",
       "0.90    115000.0\n",
       "0.95    140004.0\n",
       "0.97    165000.0\n",
       "0.98    186000.0\n",
       "0.99    234000.0\n",
       "Name: annual_inc, dtype: float64"
      ]
     },
     "execution_count": 175,
     "metadata": {},
     "output_type": "execute_result"
    }
   ],
   "source": [
    "# the above diagram clearly shows presence of outliers\n",
    "# check quantile info\n",
    "quant_info = loan_df[\"annual_inc\"].quantile([0.5, 0.2, 0.50,0.75,0.90, 0.95, 0.97,0.98, 0.99])\n",
    "quant_info"
   ]
  },
  {
   "cell_type": "code",
   "execution_count": 176,
   "metadata": {},
   "outputs": [],
   "source": [
    "# values above 98 percentile seems to be disconnected\n",
    "# taking threshold has 0.98\n",
    "annual_inc_per_98 = loan_df['annual_inc'].quantile(0.98)\n",
    "loan_df = loan_data[loan_data.annual_inc <= annual_inc_per_98]"
   ]
  },
  {
   "cell_type": "code",
   "execution_count": 177,
   "metadata": {},
   "outputs": [
    {
     "data": {
      "image/png": "[encoded data removed]",
      "text/plain": [
       "<Figure size 640x480 with 1 Axes>"
      ]
     },
     "metadata": {},
     "output_type": "display_data"
    }
   ],
   "source": [
    "\n",
    "# show boxplot for annual_inc\n",
    "sns.boxplot(loan_df.annual_inc)\n",
    "plt.show()"
   ]
  },
  {
   "cell_type": "code",
   "execution_count": 178,
   "metadata": {},
   "outputs": [
    {
     "data": {
      "image/png": "[encoded data removed]",
      "text/plain": [
       "<Figure size 640x480 with 1 Axes>"
      ]
     },
     "metadata": {},
     "output_type": "display_data"
    }
   ],
   "source": [
    "# analize dti\n",
    "sns.boxplot([loan_df.dti])\n",
    "plt.show()"
   ]
  },
  {
   "cell_type": "code",
   "execution_count": 179,
   "metadata": {},
   "outputs": [
    {
     "data": {
      "image/png": "[encoded data removed]",
      "text/plain": [
       "<Figure size 640x480 with 1 Axes>"
      ]
     },
     "metadata": {},
     "output_type": "display_data"
    }
   ],
   "source": [
    "# draw boxplot for loan_amnt and funded_amnt_inv\n",
    "sns.boxplot([loan_df.loan_amnt,loan_df.funded_amnt_inv])\n",
    "plt.show()"
   ]
  },
  {
   "cell_type": "markdown",
   "metadata": {},
   "source": [
    "we can see some vaules are bit outside Q3 distibution, still distibution looks continuous and there is no need to remove these values. "
   ]
  },
  {
   "cell_type": "markdown",
   "metadata": {},
   "source": [
    "#### Validation"
   ]
  },
  {
   "cell_type": "code",
   "execution_count": 293,
   "metadata": {},
   "outputs": [
    {
     "data": {
      "text/plain": [
       "count    38577.000000\n",
       "mean     11047.025430\n",
       "std       7348.441646\n",
       "min        500.000000\n",
       "25%       5300.000000\n",
       "50%       9600.000000\n",
       "75%      15000.000000\n",
       "max      35000.000000\n",
       "Name: loan_amnt, dtype: float64"
      ]
     },
     "execution_count": 293,
     "metadata": {},
     "output_type": "execute_result"
    }
   ],
   "source": [
    "# check for loan_amnt summary\n",
    "loan_df['loan_amnt'].describe()"
   ]
  },
  {
   "cell_type": "code",
   "execution_count": 294,
   "metadata": {},
   "outputs": [],
   "source": [
    "# Bucketting Loan Amount\n",
    "def bucket_loan_amount(column):\n",
    "    if column <= 5000:\n",
    "        return '0 - 5K'  # 25% quartile\n",
    "    elif (column >5000) and (column <= 10000):\n",
    "        return '5K - 10K'      \n",
    "    elif (column >10000) and (column <= 15000):\n",
    "        return '10K - 15K' \n",
    "    elif (column >15000) and (column <= 20000):\n",
    "        return '15K - 20K' # 75% quartile \n",
    "    else:\n",
    "        return '20K - above' \n",
    "    \n",
    "loan_df['bucket_loan_amount'] = loan_df.apply(lambda x : bucket_loan_amount(x['loan_amnt']), axis = 1)\n",
    "\n"
   ]
  },
  {
   "cell_type": "code",
   "execution_count": 296,
   "metadata": {},
   "outputs": [
    {
     "data": {
      "image/png": "[encoded data removed]",
      "text/plain": [
       "<Figure size 1000x600 with 1 Axes>"
      ]
     },
     "metadata": {},
     "output_type": "display_data"
    }
   ],
   "source": [
    "# Plot boxplot\n",
    "plt.figure(figsize=(10,6))\n",
    "sns.boxplot(x=loan_df.bucket_loan_amount, y=loan_df.loan_amnt)\n",
    "plt.show()"
   ]
  },
  {
   "cell_type": "markdown",
   "metadata": {},
   "source": [
    "####  Univariate Visualization\n",
    "##### Categorical"
   ]
  },
  {
   "cell_type": "code",
   "execution_count": 190,
   "metadata": {},
   "outputs": [
    {
     "data": {
      "text/plain": [
       "loan_status\n",
       "Fully Paid     32950\n",
       "Charged Off     5627\n",
       "Name: count, dtype: int64"
      ]
     },
     "execution_count": 190,
     "metadata": {},
     "output_type": "execute_result"
    }
   ],
   "source": [
    "# analyzing loan_status  \n",
    "loan_df[\"loan_status\"].value_counts()"
   ]
  },
  {
   "cell_type": "code",
   "execution_count": 208,
   "metadata": {},
   "outputs": [
    {
     "data": {
      "image/png": "[encoded data removed]",
      "text/plain": [
       "<Figure size 640x480 with 1 Axes>"
      ]
     },
     "metadata": {},
     "output_type": "display_data"
    }
   ],
   "source": [
    "# visualizion\n",
    "sns.countplot(x = 'loan_status', data = loan_df)\n",
    "plt.show()"
   ]
  },
  {
   "cell_type": "code",
   "execution_count": 297,
   "metadata": {},
   "outputs": [
    {
     "data": {
      "image/png": "[encoded data removed]",
      "text/plain": [
       "<Figure size 640x480 with 1 Axes>"
      ]
     },
     "metadata": {},
     "output_type": "display_data"
    }
   ],
   "source": [
    "# plot histogram for grade\n",
    "# loan_df['grade'].value_counts().plot.bar()\n",
    "sns.histplot(x=\"grade\", data = loan_df, palette=\"pastel\", hue=\"grade\", legend=True )\n",
    "# sns.color_palette(\"husl\", 9)\n",
    "plt.show()"
   ]
  },
  {
   "cell_type": "markdown",
   "metadata": {},
   "source": [
    "- Grade B has highest frequency count of loan application"
   ]
  },
  {
   "cell_type": "code",
   "execution_count": 300,
   "metadata": {},
   "outputs": [
    {
     "data": {
      "image/png": "[encoded data removed]",
      "text/plain": [
       "<Figure size 640x480 with 1 Axes>"
      ]
     },
     "metadata": {},
     "output_type": "display_data"
    }
   ],
   "source": [
    "# plot countplot for sub_grade\n",
    "# loan_df['sub_grade'].value_counts().plot.bar()\n",
    "sns.countplot(x=\"sub_grade\", data = loan_df , palette=\"pastel\", width=0.8, hue=\"sub_grade\", legend=False)\n",
    "plt.xticks(rotation=90)\n",
    "plt.show()"
   ]
  },
  {
   "cell_type": "markdown",
   "metadata": {},
   "source": [
    "- sub_grade A4 has highest frequency count."
   ]
  },
  {
   "cell_type": "code",
   "execution_count": 301,
   "metadata": {},
   "outputs": [
    {
     "data": {
      "image/png": "[encoded data removed]",
      "text/plain": [
       "<Figure size 640x480 with 1 Axes>"
      ]
     },
     "metadata": {},
     "output_type": "display_data"
    }
   ],
   "source": [
    "\n",
    "# Plot countplot for emp_length\n",
    "sns.countplot(x=\"emp_length\", data = loan_df , palette=\"pastel\", width=0.8, hue=\"emp_length\", legend=False)\n",
    "plt.xticks(rotation=90)\n",
    "plt.show()"
   ]
  },
  {
   "cell_type": "markdown",
   "metadata": {},
   "source": [
    "- Majorty of customers are in employment for 10 and more years while next immediate value is for < 1 year. "
   ]
  },
  {
   "cell_type": "code",
   "execution_count": 304,
   "metadata": {},
   "outputs": [
    {
     "data": {
      "image/png": "[encoded data removed]",
      "text/plain": [
       "<Figure size 640x480 with 1 Axes>"
      ]
     },
     "metadata": {},
     "output_type": "display_data"
    }
   ],
   "source": [
    "# Plot countplot for pub_rec_bankruptcies \n",
    "# sns.countplot(x=\"pub_rec_bankruptcies\", data = loan_df , palette=\"pastel\", width=0.8, hue=\"emp_length\", legend=True)\n",
    "sns.countplot(x=\"pub_rec_bankruptcies\", data = loan_df , palette=\"pastel\", width=0.8)\n",
    "plt.xticks(rotation=90)\n",
    "plt.show()"
   ]
  },
  {
   "cell_type": "markdown",
   "metadata": {},
   "source": [
    "- Most of the customers who applied for loans are not in public record of bankruptcies."
   ]
  },
  {
   "cell_type": "code",
   "execution_count": 263,
   "metadata": {},
   "outputs": [
    {
     "data": {
      "image/png": "[encoded data removed]",
      "text/plain": [
       "<Figure size 640x480 with 1 Axes>"
      ]
     },
     "metadata": {},
     "output_type": "display_data"
    }
   ],
   "source": [
    "# Plot frequency count for loan issued by year\n",
    "sns.countplot(x=\"issue_year\", data = loan_df , palette=\"pastel\", width=0.8, hue=\"issue_year\", legend=True)\n",
    "plt.xticks(rotation=90)\n",
    "plt.show()"
   ]
  },
  {
   "cell_type": "markdown",
   "metadata": {},
   "source": [
    "- Number of approved loans are inceasing each year and year 2011 has the max loan approved."
   ]
  },
  {
   "cell_type": "code",
   "execution_count": 268,
   "metadata": {},
   "outputs": [
    {
     "data": {
      "image/png": "[encoded data removed]",
      "text/plain": [
       "<Figure size 640x480 with 1 Axes>"
      ]
     },
     "metadata": {},
     "output_type": "display_data"
    }
   ],
   "source": [
    "# Plot frequency count for loan issued by month\n",
    "sns.countplot(x=\"issue_month\", data = loan_df , palette=\"pastel\", width=0.8, hue=\"issue_month\", legend=True)\n",
    "plt.xticks(rotation=90)\n",
    "plt.legend(bbox_to_anchor=(1.0, 1.0), loc='upper left')\n",
    "plt.show()"
   ]
  },
  {
   "cell_type": "markdown",
   "metadata": {},
   "source": [
    "- The is some trend is loan approval. Feb has slightly less no of loans approved while approved loan counts incerease each month and December has the highest value."
   ]
  },
  {
   "cell_type": "code",
   "execution_count": 273,
   "metadata": {},
   "outputs": [
    {
     "data": {
      "text/plain": [
       "home_ownership\n",
       "RENT        18480\n",
       "MORTGAGE    17021\n",
       "OWN          2975\n",
       "OTHER          98\n",
       "NONE            3\n",
       "Name: count, dtype: int64"
      ]
     },
     "execution_count": 273,
     "metadata": {},
     "output_type": "execute_result"
    }
   ],
   "source": [
    "# analyze home or mortgage ownership\n",
    "loan_df[\"home_ownership\"].value_counts()"
   ]
  },
  {
   "cell_type": "code",
   "execution_count": 274,
   "metadata": {},
   "outputs": [
    {
     "data": {
      "text/plain": [
       "array(['RENT', 'OWN', 'MORTGAGE', 'OTHER', 'NONE'], dtype=object)"
      ]
     },
     "execution_count": 274,
     "metadata": {},
     "output_type": "execute_result"
    }
   ],
   "source": [
    "# there is only 3 none value so we can replace it with other\n",
    "loan_df['home_ownership'].replace(to_replace = ['NONE'],value='OTHER',inplace = True)\n",
    "\n",
    "# check unique values for home_ownership again\n",
    "loan_data['home_ownership'].unique()"
   ]
  },
  {
   "cell_type": "code",
   "execution_count": 275,
   "metadata": {},
   "outputs": [
    {
     "data": {
      "image/png": "[encoded data removed]",
      "text/plain": [
       "<Figure size 640x480 with 1 Axes>"
      ]
     },
     "metadata": {},
     "output_type": "display_data"
    }
   ],
   "source": [
    "# plot countplot for house_ownership\n",
    "sns.countplot(x=\"home_ownership\", data = loan_df , palette=\"pastel\", width=0.8, hue=\"home_ownership\", legend=True)\n",
    "plt.xticks(rotation=90)\n",
    "plt.legend(bbox_to_anchor=(1.0, 1.0), loc='upper left')\n",
    "plt.show()"
   ]
  },
  {
   "cell_type": "code",
   "execution_count": 287,
   "metadata": {},
   "outputs": [
    {
     "data": {
      "image/png": "[encoded data removed]",
      "text/plain": [
       "<Figure size 800x400 with 1 Axes>"
      ]
     },
     "metadata": {},
     "output_type": "display_data"
    }
   ],
   "source": [
    "fig, ax = plt.subplots(figsize = (8,4))\n",
    "sns.countplot(x='home_ownership', data=loan_df[loan_df['loan_status']=='Charged Off'])\n",
    "plt.show()"
   ]
  },
  {
   "cell_type": "code",
   "execution_count": 292,
   "metadata": {},
   "outputs": [
    {
     "data": {
      "image/png": "[encoded data removed]",
      "text/plain": [
       "<Figure size 1200x800 with 1 Axes>"
      ]
     },
     "metadata": {},
     "output_type": "display_data"
    }
   ],
   "source": [
    "# analyze purpose column\n",
    "fig, ax = plt.subplots(figsize = (12,8))\n",
    "# ax.set(xscale = 'log')\n",
    "sns.countplot(y ='purpose', data=loan_df[loan_df.loan_status == 'Charged Off'])\n",
    "plt.show()"
   ]
  },
  {
   "cell_type": "code",
   "execution_count": 182,
   "metadata": {},
   "outputs": [
    {
     "data": {
      "text/html": [
       "<div>\n",
       "<style scoped>\n",
       "    .dataframe tbody tr th:only-of-type {\n",
       "        vertical-align: middle;\n",
       "    }\n",
       "\n",
       "    .dataframe tbody tr th {\n",
       "        vertical-align: top;\n",
       "    }\n",
       "\n",
       "    .dataframe thead th {\n",
       "        text-align: right;\n",
       "    }\n",
       "</style>\n",
       "<table border=\"1\" class=\"dataframe\">\n",
       "  <thead>\n",
       "    <tr style=\"text-align: right;\">\n",
       "      <th></th>\n",
       "      <th>loan_amnt</th>\n",
       "      <th>funded_amnt</th>\n",
       "      <th>funded_amnt_inv</th>\n",
       "      <th>installment</th>\n",
       "      <th>annual_inc</th>\n",
       "      <th>dti</th>\n",
       "      <th>inq_last_6mths</th>\n",
       "      <th>open_acc</th>\n",
       "      <th>pub_rec</th>\n",
       "      <th>total_acc</th>\n",
       "      <th>pub_rec_bankruptcies</th>\n",
       "    </tr>\n",
       "  </thead>\n",
       "  <tbody>\n",
       "    <tr>\n",
       "      <th>count</th>\n",
       "      <td>38914.000000</td>\n",
       "      <td>38914.000000</td>\n",
       "      <td>38914.000000</td>\n",
       "      <td>38914.000000</td>\n",
       "      <td>38914.000000</td>\n",
       "      <td>38914.000000</td>\n",
       "      <td>38914.000000</td>\n",
       "      <td>38914.000000</td>\n",
       "      <td>38914.000000</td>\n",
       "      <td>38914.000000</td>\n",
       "      <td>38239.000000</td>\n",
       "    </tr>\n",
       "    <tr>\n",
       "      <th>mean</th>\n",
       "      <td>11058.455826</td>\n",
       "      <td>10793.888446</td>\n",
       "      <td>10253.245583</td>\n",
       "      <td>319.820404</td>\n",
       "      <td>64065.255369</td>\n",
       "      <td>13.411601</td>\n",
       "      <td>0.864907</td>\n",
       "      <td>9.252814</td>\n",
       "      <td>0.055661</td>\n",
       "      <td>21.927635</td>\n",
       "      <td>0.043803</td>\n",
       "    </tr>\n",
       "    <tr>\n",
       "      <th>std</th>\n",
       "      <td>7321.870802</td>\n",
       "      <td>7056.357814</td>\n",
       "      <td>6998.089801</td>\n",
       "      <td>204.376309</td>\n",
       "      <td>32322.452828</td>\n",
       "      <td>6.662913</td>\n",
       "      <td>1.066263</td>\n",
       "      <td>4.384440</td>\n",
       "      <td>0.238391</td>\n",
       "      <td>11.322505</td>\n",
       "      <td>0.205553</td>\n",
       "    </tr>\n",
       "    <tr>\n",
       "      <th>min</th>\n",
       "      <td>500.000000</td>\n",
       "      <td>500.000000</td>\n",
       "      <td>0.000000</td>\n",
       "      <td>15.690000</td>\n",
       "      <td>4000.000000</td>\n",
       "      <td>0.000000</td>\n",
       "      <td>0.000000</td>\n",
       "      <td>2.000000</td>\n",
       "      <td>0.000000</td>\n",
       "      <td>2.000000</td>\n",
       "      <td>0.000000</td>\n",
       "    </tr>\n",
       "    <tr>\n",
       "      <th>25%</th>\n",
       "      <td>5381.250000</td>\n",
       "      <td>5200.000000</td>\n",
       "      <td>5000.000000</td>\n",
       "      <td>165.700000</td>\n",
       "      <td>40000.000000</td>\n",
       "      <td>8.310000</td>\n",
       "      <td>0.000000</td>\n",
       "      <td>6.000000</td>\n",
       "      <td>0.000000</td>\n",
       "      <td>13.000000</td>\n",
       "      <td>0.000000</td>\n",
       "    </tr>\n",
       "    <tr>\n",
       "      <th>50%</th>\n",
       "      <td>9800.000000</td>\n",
       "      <td>9600.000000</td>\n",
       "      <td>8814.522994</td>\n",
       "      <td>277.425000</td>\n",
       "      <td>57996.000000</td>\n",
       "      <td>13.510000</td>\n",
       "      <td>1.000000</td>\n",
       "      <td>9.000000</td>\n",
       "      <td>0.000000</td>\n",
       "      <td>20.000000</td>\n",
       "      <td>0.000000</td>\n",
       "    </tr>\n",
       "    <tr>\n",
       "      <th>75%</th>\n",
       "      <td>15000.000000</td>\n",
       "      <td>15000.000000</td>\n",
       "      <td>14050.000000</td>\n",
       "      <td>422.330000</td>\n",
       "      <td>80000.000000</td>\n",
       "      <td>18.680000</td>\n",
       "      <td>1.000000</td>\n",
       "      <td>12.000000</td>\n",
       "      <td>0.000000</td>\n",
       "      <td>29.000000</td>\n",
       "      <td>0.000000</td>\n",
       "    </tr>\n",
       "    <tr>\n",
       "      <th>max</th>\n",
       "      <td>35000.000000</td>\n",
       "      <td>35000.000000</td>\n",
       "      <td>35000.000000</td>\n",
       "      <td>1305.190000</td>\n",
       "      <td>186000.000000</td>\n",
       "      <td>29.990000</td>\n",
       "      <td>8.000000</td>\n",
       "      <td>44.000000</td>\n",
       "      <td>4.000000</td>\n",
       "      <td>90.000000</td>\n",
       "      <td>2.000000</td>\n",
       "    </tr>\n",
       "  </tbody>\n",
       "</table>\n",
       "</div>"
      ],
      "text/plain": [
       "          loan_amnt   funded_amnt  funded_amnt_inv   installment  \\\n",
       "count  38914.000000  38914.000000     38914.000000  38914.000000   \n",
       "mean   11058.455826  10793.888446     10253.245583    319.820404   \n",
       "std     7321.870802   7056.357814      6998.089801    204.376309   \n",
       "min      500.000000    500.000000         0.000000     15.690000   \n",
       "25%     5381.250000   5200.000000      5000.000000    165.700000   \n",
       "50%     9800.000000   9600.000000      8814.522994    277.425000   \n",
       "75%    15000.000000  15000.000000     14050.000000    422.330000   \n",
       "max    35000.000000  35000.000000     35000.000000   1305.190000   \n",
       "\n",
       "          annual_inc           dti  inq_last_6mths      open_acc  \\\n",
       "count   38914.000000  38914.000000    38914.000000  38914.000000   \n",
       "mean    64065.255369     13.411601        0.864907      9.252814   \n",
       "std     32322.452828      6.662913        1.066263      4.384440   \n",
       "min      4000.000000      0.000000        0.000000      2.000000   \n",
       "25%     40000.000000      8.310000        0.000000      6.000000   \n",
       "50%     57996.000000     13.510000        1.000000      9.000000   \n",
       "75%     80000.000000     18.680000        1.000000     12.000000   \n",
       "max    186000.000000     29.990000        8.000000     44.000000   \n",
       "\n",
       "            pub_rec     total_acc  pub_rec_bankruptcies  \n",
       "count  38914.000000  38914.000000          38239.000000  \n",
       "mean       0.055661     21.927635              0.043803  \n",
       "std        0.238391     11.322505              0.205553  \n",
       "min        0.000000      2.000000              0.000000  \n",
       "25%        0.000000     13.000000              0.000000  \n",
       "50%        0.000000     20.000000              0.000000  \n",
       "75%        0.000000     29.000000              0.000000  \n",
       "max        4.000000     90.000000              2.000000  "
      ]
     },
     "execution_count": 182,
     "metadata": {},
     "output_type": "execute_result"
    }
   ],
   "source": [
    "# summary dataset distibution\n",
    "loan_df.describe()"
   ]
  },
  {
   "cell_type": "code",
   "execution_count": null,
   "metadata": {},
   "outputs": [],
   "source": []
  },
  {
   "cell_type": "code",
   "execution_count": null,
   "metadata": {},
   "outputs": [],
   "source": []
  },
  {
   "cell_type": "code",
   "execution_count": null,
   "metadata": {},
   "outputs": [],
   "source": []
  },
  {
   "cell_type": "code",
   "execution_count": 185,
   "metadata": {},
   "outputs": [
    {
     "data": {
      "text/plain": [
       "loan_amnt               False\n",
       "funded_amnt             False\n",
       "funded_amnt_inv         False\n",
       "term                    False\n",
       "int_rate                False\n",
       "installment             False\n",
       "grade                   False\n",
       "sub_grade               False\n",
       "emp_length              False\n",
       "home_ownership          False\n",
       "annual_inc              False\n",
       "verification_status     False\n",
       "issue_d                 False\n",
       "loan_status             False\n",
       "purpose                 False\n",
       "zip_code                False\n",
       "addr_state              False\n",
       "dti                     False\n",
       "earliest_cr_line        False\n",
       "inq_last_6mths          False\n",
       "open_acc                False\n",
       "pub_rec                 False\n",
       "revol_util              False\n",
       "total_acc               False\n",
       "pub_rec_bankruptcies    False\n",
       "dtype: bool"
      ]
     },
     "execution_count": 185,
     "metadata": {},
     "output_type": "execute_result"
    }
   ],
   "source": [
    "# check for concise information summary about data\n",
    "#loan_data.info()\n",
    "loan_data.isnull().sum()>39700"
   ]
  },
  {
   "cell_type": "markdown",
   "metadata": {},
   "source": [
    "#### Important columns\n",
    "With given columns, we can separate out demogaphics and loan attibutes which will act as predictors. These attibutes can be utilized at the time of desion making to pass or reject a loan of customers. \n",
    "\n",
    "*Demographics of cutomer*\n",
    "- home_ownership\n",
    "- addr_state\n",
    "- annual_inc\n",
    "- emp_length\n",
    "- emp_title\n",
    "- zip_code\n",
    "- dti\n",
    "\n",
    "\n",
    "*Loan attibutes*\n",
    "- loan_amt\n",
    "- grade\n",
    "- sub_grade\n",
    "- purpose\n",
    "- revol_bal\n",
    "- percent_bc_gt_75\n",
    "- num_tl_op_past_12m\n",
    "- mort_acc\n",
    "- inq_last_12m\n",
    "- verification_status\n",
    "- total_acc\n",
    "- tot_cur_bal\n",
    "- issue_date\n",
    "- int_rate\n",
    "- installment\n",
    "- public_rec\n",
    "- public_rec_bankruptcy\n"
   ]
  },
  {
   "cell_type": "code",
   "execution_count": null,
   "metadata": {},
   "outputs": [],
   "source": []
  }
 ],
 "metadata": {
  "kernelspec": {
   "display_name": ".venv",
   "language": "python",
   "name": "python3"
  },
  "language_info": {
   "codemirror_mode": {
    "name": "ipython",
    "version": 3
   },
   "file_extension": ".py",
   "mimetype": "text/x-python",
   "name": "python",
   "nbconvert_exporter": "python",
   "pygments_lexer": "ipython3",
   "version": "3.12.0"
  }
 },
 "nbformat": 4,
 "nbformat_minor": 2
}
